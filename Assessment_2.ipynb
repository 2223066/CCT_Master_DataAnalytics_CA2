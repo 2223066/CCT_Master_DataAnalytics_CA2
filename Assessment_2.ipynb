{
 "cells": [
  {
   "cell_type": "markdown",
   "id": "6a5a1f4e",
   "metadata": {},
   "source": [
    "### Import Libraries"
   ]
  },
  {
   "cell_type": "code",
   "execution_count": 1,
   "id": "970fe326",
   "metadata": {},
   "outputs": [],
   "source": [
    "#IMPORT LIBRARIES\n",
    "\n",
    "import pandas as pd  # library used for data science/data analysis and machine learning tasks\n",
    "import numpy as np  # library used for working with arrays, math functions, linear algebra, fourier transform, matrices, and others.\n",
    "import seaborn as sns  # library for making statistical graphics in Python.\n",
    "import matplotlib.pyplot as plt  # library for plot visualizations\n",
    "\n",
    "# command for drawing  plots immediately after the current cell (show more than only one graph)\n",
    "%matplotlib inline \n",
    "\n",
    "import os  # used here to access filedir functions\n",
    "import datetime  # functions for manipulating date\n",
    "import random  # functions for generating or manipulating random integers\n",
    "\n",
    "#from scipy.stats import poisson  # Statistic poisson library\n",
    "\n",
    "# Scikit-learn is a machine learning library. Contains functions for regression, classification and clustering algorithms.\n",
    "#from sklearn import linear_model\n",
    "#from sklearn.linear_model import LinearRegression\n",
    "#from sklearn.model_selection import train_test_split\n",
    "#from sklearn.metrics import r2_score\n",
    "\n",
    "# Remove Warnings \n",
    "import warnings\n",
    "warnings.filterwarnings('ignore')\n",
    "\n",
    "# print the entire dataframe\n",
    "pd.set_option('display.max_rows', None)"
   ]
  },
  {
   "cell_type": "markdown",
   "id": "15e79ea4",
   "metadata": {},
   "source": [
    "."
   ]
  },
  {
   "cell_type": "markdown",
   "id": "b5f40f05",
   "metadata": {},
   "source": [
    "# Data Undersanding"
   ]
  },
  {
   "cell_type": "markdown",
   "id": "2b81dec6",
   "metadata": {},
   "source": [
    "### House Construction Cost"
   ]
  },
  {
   "cell_type": "code",
   "execution_count": 2,
   "id": "c1be31d6",
   "metadata": {},
   "outputs": [
    {
     "ename": "FileNotFoundError",
     "evalue": "[Errno 2] No such file or directory: 'Ireland_Construction_Cost_Index_HSA09.20230502094114.csv'",
     "output_type": "error",
     "traceback": [
      "\u001b[1;31m---------------------------------------------------------------------------\u001b[0m",
      "\u001b[1;31mFileNotFoundError\u001b[0m                         Traceback (most recent call last)",
      "\u001b[1;32m~\\AppData\\Local\\Temp\\ipykernel_26352\\1975790264.py\u001b[0m in \u001b[0;36m<module>\u001b[1;34m\u001b[0m\n\u001b[0;32m      4\u001b[0m \u001b[1;33m\u001b[0m\u001b[0m\n\u001b[0;32m      5\u001b[0m \u001b[1;31m#opening datasets with construction cost values\u001b[0m\u001b[1;33m\u001b[0m\u001b[1;33m\u001b[0m\u001b[0m\n\u001b[1;32m----> 6\u001b[1;33m \u001b[0mdf_Ireland_Construction_Cost\u001b[0m \u001b[1;33m=\u001b[0m \u001b[0mpd\u001b[0m\u001b[1;33m.\u001b[0m\u001b[0mread_csv\u001b[0m\u001b[1;33m(\u001b[0m\u001b[1;34m'Ireland_Construction_Cost_Index_HSA09.20230502094114.csv'\u001b[0m\u001b[1;33m)\u001b[0m\u001b[1;33m\u001b[0m\u001b[1;33m\u001b[0m\u001b[0m\n\u001b[0m\u001b[0;32m      7\u001b[0m \u001b[0mdf_Germany_Construction_Cost\u001b[0m \u001b[1;33m=\u001b[0m \u001b[0mpd\u001b[0m\u001b[1;33m.\u001b[0m\u001b[0mread_csv\u001b[0m\u001b[1;33m(\u001b[0m\u001b[1;34m\"Germany_Construction_Cost_Index_OPCNRE01DEQ661N.csv\"\u001b[0m\u001b[1;33m)\u001b[0m\u001b[1;33m;\u001b[0m\u001b[1;33m\u001b[0m\u001b[1;33m\u001b[0m\u001b[0m\n\u001b[0;32m      8\u001b[0m \u001b[0mdf_Italy_Construction_Cost\u001b[0m \u001b[1;33m=\u001b[0m \u001b[0mpd\u001b[0m\u001b[1;33m.\u001b[0m\u001b[0mread_csv\u001b[0m\u001b[1;33m(\u001b[0m\u001b[1;34m\"Italy_Construction_Cost_Index_OPCNRE01ITM661N.csv\"\u001b[0m\u001b[1;33m)\u001b[0m\u001b[1;33m;\u001b[0m\u001b[1;33m\u001b[0m\u001b[1;33m\u001b[0m\u001b[0m\n",
      "\u001b[1;32mD:\\Anaconda\\lib\\site-packages\\pandas\\util\\_decorators.py\u001b[0m in \u001b[0;36mwrapper\u001b[1;34m(*args, **kwargs)\u001b[0m\n\u001b[0;32m    309\u001b[0m                     \u001b[0mstacklevel\u001b[0m\u001b[1;33m=\u001b[0m\u001b[0mstacklevel\u001b[0m\u001b[1;33m,\u001b[0m\u001b[1;33m\u001b[0m\u001b[1;33m\u001b[0m\u001b[0m\n\u001b[0;32m    310\u001b[0m                 )\n\u001b[1;32m--> 311\u001b[1;33m             \u001b[1;32mreturn\u001b[0m \u001b[0mfunc\u001b[0m\u001b[1;33m(\u001b[0m\u001b[1;33m*\u001b[0m\u001b[0margs\u001b[0m\u001b[1;33m,\u001b[0m \u001b[1;33m**\u001b[0m\u001b[0mkwargs\u001b[0m\u001b[1;33m)\u001b[0m\u001b[1;33m\u001b[0m\u001b[1;33m\u001b[0m\u001b[0m\n\u001b[0m\u001b[0;32m    312\u001b[0m \u001b[1;33m\u001b[0m\u001b[0m\n\u001b[0;32m    313\u001b[0m         \u001b[1;32mreturn\u001b[0m \u001b[0mwrapper\u001b[0m\u001b[1;33m\u001b[0m\u001b[1;33m\u001b[0m\u001b[0m\n",
      "\u001b[1;32mD:\\Anaconda\\lib\\site-packages\\pandas\\io\\parsers\\readers.py\u001b[0m in \u001b[0;36mread_csv\u001b[1;34m(filepath_or_buffer, sep, delimiter, header, names, index_col, usecols, squeeze, prefix, mangle_dupe_cols, dtype, engine, converters, true_values, false_values, skipinitialspace, skiprows, skipfooter, nrows, na_values, keep_default_na, na_filter, verbose, skip_blank_lines, parse_dates, infer_datetime_format, keep_date_col, date_parser, dayfirst, cache_dates, iterator, chunksize, compression, thousands, decimal, lineterminator, quotechar, quoting, doublequote, escapechar, comment, encoding, encoding_errors, dialect, error_bad_lines, warn_bad_lines, on_bad_lines, delim_whitespace, low_memory, memory_map, float_precision, storage_options)\u001b[0m\n\u001b[0;32m    676\u001b[0m     \u001b[0mkwds\u001b[0m\u001b[1;33m.\u001b[0m\u001b[0mupdate\u001b[0m\u001b[1;33m(\u001b[0m\u001b[0mkwds_defaults\u001b[0m\u001b[1;33m)\u001b[0m\u001b[1;33m\u001b[0m\u001b[1;33m\u001b[0m\u001b[0m\n\u001b[0;32m    677\u001b[0m \u001b[1;33m\u001b[0m\u001b[0m\n\u001b[1;32m--> 678\u001b[1;33m     \u001b[1;32mreturn\u001b[0m \u001b[0m_read\u001b[0m\u001b[1;33m(\u001b[0m\u001b[0mfilepath_or_buffer\u001b[0m\u001b[1;33m,\u001b[0m \u001b[0mkwds\u001b[0m\u001b[1;33m)\u001b[0m\u001b[1;33m\u001b[0m\u001b[1;33m\u001b[0m\u001b[0m\n\u001b[0m\u001b[0;32m    679\u001b[0m \u001b[1;33m\u001b[0m\u001b[0m\n\u001b[0;32m    680\u001b[0m \u001b[1;33m\u001b[0m\u001b[0m\n",
      "\u001b[1;32mD:\\Anaconda\\lib\\site-packages\\pandas\\io\\parsers\\readers.py\u001b[0m in \u001b[0;36m_read\u001b[1;34m(filepath_or_buffer, kwds)\u001b[0m\n\u001b[0;32m    573\u001b[0m \u001b[1;33m\u001b[0m\u001b[0m\n\u001b[0;32m    574\u001b[0m     \u001b[1;31m# Create the parser.\u001b[0m\u001b[1;33m\u001b[0m\u001b[1;33m\u001b[0m\u001b[0m\n\u001b[1;32m--> 575\u001b[1;33m     \u001b[0mparser\u001b[0m \u001b[1;33m=\u001b[0m \u001b[0mTextFileReader\u001b[0m\u001b[1;33m(\u001b[0m\u001b[0mfilepath_or_buffer\u001b[0m\u001b[1;33m,\u001b[0m \u001b[1;33m**\u001b[0m\u001b[0mkwds\u001b[0m\u001b[1;33m)\u001b[0m\u001b[1;33m\u001b[0m\u001b[1;33m\u001b[0m\u001b[0m\n\u001b[0m\u001b[0;32m    576\u001b[0m \u001b[1;33m\u001b[0m\u001b[0m\n\u001b[0;32m    577\u001b[0m     \u001b[1;32mif\u001b[0m \u001b[0mchunksize\u001b[0m \u001b[1;32mor\u001b[0m \u001b[0miterator\u001b[0m\u001b[1;33m:\u001b[0m\u001b[1;33m\u001b[0m\u001b[1;33m\u001b[0m\u001b[0m\n",
      "\u001b[1;32mD:\\Anaconda\\lib\\site-packages\\pandas\\io\\parsers\\readers.py\u001b[0m in \u001b[0;36m__init__\u001b[1;34m(self, f, engine, **kwds)\u001b[0m\n\u001b[0;32m    930\u001b[0m \u001b[1;33m\u001b[0m\u001b[0m\n\u001b[0;32m    931\u001b[0m         \u001b[0mself\u001b[0m\u001b[1;33m.\u001b[0m\u001b[0mhandles\u001b[0m\u001b[1;33m:\u001b[0m \u001b[0mIOHandles\u001b[0m \u001b[1;33m|\u001b[0m \u001b[1;32mNone\u001b[0m \u001b[1;33m=\u001b[0m \u001b[1;32mNone\u001b[0m\u001b[1;33m\u001b[0m\u001b[1;33m\u001b[0m\u001b[0m\n\u001b[1;32m--> 932\u001b[1;33m         \u001b[0mself\u001b[0m\u001b[1;33m.\u001b[0m\u001b[0m_engine\u001b[0m \u001b[1;33m=\u001b[0m \u001b[0mself\u001b[0m\u001b[1;33m.\u001b[0m\u001b[0m_make_engine\u001b[0m\u001b[1;33m(\u001b[0m\u001b[0mf\u001b[0m\u001b[1;33m,\u001b[0m \u001b[0mself\u001b[0m\u001b[1;33m.\u001b[0m\u001b[0mengine\u001b[0m\u001b[1;33m)\u001b[0m\u001b[1;33m\u001b[0m\u001b[1;33m\u001b[0m\u001b[0m\n\u001b[0m\u001b[0;32m    933\u001b[0m \u001b[1;33m\u001b[0m\u001b[0m\n\u001b[0;32m    934\u001b[0m     \u001b[1;32mdef\u001b[0m \u001b[0mclose\u001b[0m\u001b[1;33m(\u001b[0m\u001b[0mself\u001b[0m\u001b[1;33m)\u001b[0m\u001b[1;33m:\u001b[0m\u001b[1;33m\u001b[0m\u001b[1;33m\u001b[0m\u001b[0m\n",
      "\u001b[1;32mD:\\Anaconda\\lib\\site-packages\\pandas\\io\\parsers\\readers.py\u001b[0m in \u001b[0;36m_make_engine\u001b[1;34m(self, f, engine)\u001b[0m\n\u001b[0;32m   1214\u001b[0m             \u001b[1;31m# \"Union[str, PathLike[str], ReadCsvBuffer[bytes], ReadCsvBuffer[str]]\"\u001b[0m\u001b[1;33m\u001b[0m\u001b[1;33m\u001b[0m\u001b[0m\n\u001b[0;32m   1215\u001b[0m             \u001b[1;31m# , \"str\", \"bool\", \"Any\", \"Any\", \"Any\", \"Any\", \"Any\"\u001b[0m\u001b[1;33m\u001b[0m\u001b[1;33m\u001b[0m\u001b[0m\n\u001b[1;32m-> 1216\u001b[1;33m             self.handles = get_handle(  # type: ignore[call-overload]\n\u001b[0m\u001b[0;32m   1217\u001b[0m                 \u001b[0mf\u001b[0m\u001b[1;33m,\u001b[0m\u001b[1;33m\u001b[0m\u001b[1;33m\u001b[0m\u001b[0m\n\u001b[0;32m   1218\u001b[0m                 \u001b[0mmode\u001b[0m\u001b[1;33m,\u001b[0m\u001b[1;33m\u001b[0m\u001b[1;33m\u001b[0m\u001b[0m\n",
      "\u001b[1;32mD:\\Anaconda\\lib\\site-packages\\pandas\\io\\common.py\u001b[0m in \u001b[0;36mget_handle\u001b[1;34m(path_or_buf, mode, encoding, compression, memory_map, is_text, errors, storage_options)\u001b[0m\n\u001b[0;32m    784\u001b[0m         \u001b[1;32mif\u001b[0m \u001b[0mioargs\u001b[0m\u001b[1;33m.\u001b[0m\u001b[0mencoding\u001b[0m \u001b[1;32mand\u001b[0m \u001b[1;34m\"b\"\u001b[0m \u001b[1;32mnot\u001b[0m \u001b[1;32min\u001b[0m \u001b[0mioargs\u001b[0m\u001b[1;33m.\u001b[0m\u001b[0mmode\u001b[0m\u001b[1;33m:\u001b[0m\u001b[1;33m\u001b[0m\u001b[1;33m\u001b[0m\u001b[0m\n\u001b[0;32m    785\u001b[0m             \u001b[1;31m# Encoding\u001b[0m\u001b[1;33m\u001b[0m\u001b[1;33m\u001b[0m\u001b[0m\n\u001b[1;32m--> 786\u001b[1;33m             handle = open(\n\u001b[0m\u001b[0;32m    787\u001b[0m                 \u001b[0mhandle\u001b[0m\u001b[1;33m,\u001b[0m\u001b[1;33m\u001b[0m\u001b[1;33m\u001b[0m\u001b[0m\n\u001b[0;32m    788\u001b[0m                 \u001b[0mioargs\u001b[0m\u001b[1;33m.\u001b[0m\u001b[0mmode\u001b[0m\u001b[1;33m,\u001b[0m\u001b[1;33m\u001b[0m\u001b[1;33m\u001b[0m\u001b[0m\n",
      "\u001b[1;31mFileNotFoundError\u001b[0m: [Errno 2] No such file or directory: 'Ireland_Construction_Cost_Index_HSA09.20230502094114.csv'"
     ]
    }
   ],
   "source": [
    "#Ireland_Construction_Cost_Index_HSA09.20230502094108.csv - INDEX = Jan/1991\n",
    "#Germany_Construction_Cost_Index_OPCNRE01DEQ661N.csv      - INDEX = 2015\n",
    "#Italy_Construction_Cost_Index_OPCNRE01ITM661N.csv        - INDEX = 2015\n",
    "\n",
    "#opening datasets with construction cost values\n",
    "df_Ireland_Construction_Cost = pd.read_csv('Ireland_Construction_Cost_Index_HSA09.20230502094114.csv') \n",
    "df_Germany_Construction_Cost = pd.read_csv(\"Germany_Construction_Cost_Index_OPCNRE01DEQ661N.csv\");\n",
    "df_Italy_Construction_Cost = pd.read_csv(\"Italy_Construction_Cost_Index_OPCNRE01ITM661N.csv\");\n"
   ]
  },
  {
   "cell_type": "code",
   "execution_count": null,
   "id": "25f91a4b",
   "metadata": {},
   "outputs": [],
   "source": [
    "df_Ireland_Construction_Cost"
   ]
  },
  {
   "cell_type": "code",
   "execution_count": null,
   "id": "9e17e659",
   "metadata": {},
   "outputs": [],
   "source": [
    "df_Germany_Construction_Cost"
   ]
  },
  {
   "cell_type": "code",
   "execution_count": null,
   "id": "b22ae39c",
   "metadata": {
    "scrolled": true
   },
   "outputs": [],
   "source": [
    "df_Italy_Construction_Cost"
   ]
  },
  {
   "cell_type": "markdown",
   "id": "e3659991",
   "metadata": {},
   "source": [
    "### Total Construction"
   ]
  },
  {
   "cell_type": "code",
   "execution_count": null,
   "id": "8d391bc7",
   "metadata": {},
   "outputs": [],
   "source": [
    "#Ireland_Construction_Total_Construction_Quarter_PRCNTO01IEQ659S.csv  - INDEX = Growth rate same period previous year\n",
    "#Germany_Construction_Total_Construction_Monthly_DEUPROCONMISMEI.csv  - INDEX = 2015\n",
    "#Italy_Construction_Total_Construction_Quarter_ITAPROCONQISMEI.csv    - INDEX = 2015\n",
    "\n",
    "#opening datasets with construction Total values\n",
    "df_Ireland_Construction_Total = pd.read_csv('Ireland_Construction_Total_Construction_Quarter_PRCNTO01IEQ659S.csv') \n",
    "df_Germany_Construction_Total = pd.read_csv(\"Germany_Construction_Total_Construction_Monthly_DEUPROCONMISMEI.csv\");\n",
    "df_Italy_Construction_Total = pd.read_csv(\"Italy_Construction_Total_Construction_Quarter_ITAPROCONQISMEI.csv\");"
   ]
  },
  {
   "cell_type": "code",
   "execution_count": null,
   "id": "3ac5271c",
   "metadata": {},
   "outputs": [],
   "source": [
    "df_Ireland_Construction_Total"
   ]
  },
  {
   "cell_type": "code",
   "execution_count": null,
   "id": "226c54db",
   "metadata": {},
   "outputs": [],
   "source": [
    "df_Germany_Construction_Total"
   ]
  },
  {
   "cell_type": "code",
   "execution_count": null,
   "id": "0d03358c",
   "metadata": {},
   "outputs": [],
   "source": [
    "df_Italy_Construction_Total"
   ]
  },
  {
   "cell_type": "markdown",
   "id": "aa0e15c1",
   "metadata": {},
   "source": [
    "### Construction Employment"
   ]
  },
  {
   "cell_type": "code",
   "execution_count": null,
   "id": "c6e2b391",
   "metadata": {},
   "outputs": [],
   "source": [
    "#Ireland_Construction_Employment_LFEACNTTIEQ647S.csv\n",
    "#Germany_Construction_Employment_LFEACNTTDEQ647S.csv\n",
    "#Italy_Construction_Employment_LFEACNTTITQ647S.csv\n",
    "\n",
    "#opening datasets with construction employment values\n",
    "df_Ireland_Construction_Employment = pd.read_csv('Ireland_Construction_Employment_LFEACNTTIEQ647S.csv') \n",
    "df_Germany_Construction_Employment = pd.read_csv(\"Germany_Construction_Employment_LFEACNTTDEQ647S.csv\");\n",
    "df_Italy_Construction_Employment = pd.read_csv(\"Italy_Construction_Employment_LFEACNTTITQ647S.csv\");"
   ]
  },
  {
   "cell_type": "code",
   "execution_count": null,
   "id": "2be220c8",
   "metadata": {},
   "outputs": [],
   "source": [
    "df_Ireland_Construction_Employment"
   ]
  },
  {
   "cell_type": "code",
   "execution_count": null,
   "id": "5c61a910",
   "metadata": {},
   "outputs": [],
   "source": [
    "df_Germany_Construction_Employment"
   ]
  },
  {
   "cell_type": "code",
   "execution_count": null,
   "id": "850605bf",
   "metadata": {},
   "outputs": [],
   "source": [
    "df_Italy_Construction_Employment"
   ]
  },
  {
   "cell_type": "code",
   "execution_count": null,
   "id": "b43b86e5",
   "metadata": {},
   "outputs": [],
   "source": []
  },
  {
   "cell_type": "code",
   "execution_count": null,
   "id": "e91d0700",
   "metadata": {},
   "outputs": [],
   "source": []
  },
  {
   "cell_type": "code",
   "execution_count": null,
   "id": "38a947b7",
   "metadata": {},
   "outputs": [],
   "source": []
  },
  {
   "cell_type": "code",
   "execution_count": null,
   "id": "01afe844",
   "metadata": {},
   "outputs": [],
   "source": []
  },
  {
   "cell_type": "code",
   "execution_count": null,
   "id": "2c85f324",
   "metadata": {},
   "outputs": [],
   "source": []
  },
  {
   "cell_type": "code",
   "execution_count": null,
   "id": "83d14514",
   "metadata": {},
   "outputs": [],
   "source": []
  },
  {
   "cell_type": "code",
   "execution_count": null,
   "id": "104a949a",
   "metadata": {},
   "outputs": [],
   "source": []
  },
  {
   "cell_type": "code",
   "execution_count": null,
   "id": "05d9d196",
   "metadata": {},
   "outputs": [],
   "source": []
  },
  {
   "cell_type": "code",
   "execution_count": null,
   "id": "6701b27f",
   "metadata": {},
   "outputs": [],
   "source": []
  },
  {
   "cell_type": "code",
   "execution_count": null,
   "id": "7f6b0116",
   "metadata": {},
   "outputs": [],
   "source": []
  },
  {
   "cell_type": "code",
   "execution_count": null,
   "id": "55a06b53",
   "metadata": {},
   "outputs": [],
   "source": []
  },
  {
   "cell_type": "code",
   "execution_count": null,
   "id": "d850a38a",
   "metadata": {},
   "outputs": [],
   "source": []
  },
  {
   "cell_type": "markdown",
   "id": "7b4cab1d",
   "metadata": {},
   "source": [
    "# Data Preparation"
   ]
  },
  {
   "cell_type": "markdown",
   "id": "88446dae",
   "metadata": {},
   "source": [
    "."
   ]
  },
  {
   "cell_type": "markdown",
   "id": "09d0f9ee",
   "metadata": {},
   "source": [
    "## House Construction Cost"
   ]
  },
  {
   "cell_type": "markdown",
   "id": "0273bb58",
   "metadata": {},
   "source": [
    "."
   ]
  },
  {
   "cell_type": "code",
   "execution_count": null,
   "id": "49363017",
   "metadata": {},
   "outputs": [],
   "source": [
    "# Default values to House Construction Cost\n",
    "# INDEX = 1975 \n",
    "# Range = 1975 to 2016\n",
    "# Period = years"
   ]
  },
  {
   "cell_type": "markdown",
   "id": "b422b58f",
   "metadata": {},
   "source": [
    "### Ireland Construction Cost"
   ]
  },
  {
   "cell_type": "code",
   "execution_count": null,
   "id": "011def27",
   "metadata": {},
   "outputs": [],
   "source": [
    "#IRELAND HOUSE CONSTRUCTION COST\n",
    "\n",
    "df_Ireland_Construction_Cost = pd.read_csv('Ireland_Construction_Cost_Index_HSA09.20230502094114.csv') \n",
    "\n",
    "#Removing the uselles collumns from our datset\n",
    "df_Ireland_Construction_Cost = df_Ireland_Construction_Cost.drop('STATISTIC', axis=1)\n",
    "df_Ireland_Construction_Cost = df_Ireland_Construction_Cost.drop('STATISTIC Label', axis=1)\n",
    "df_Ireland_Construction_Cost = df_Ireland_Construction_Cost.drop('TLIST(A1)', axis=1)\n",
    "df_Ireland_Construction_Cost = df_Ireland_Construction_Cost.drop('C02196V02652', axis=1)\n",
    "df_Ireland_Construction_Cost = df_Ireland_Construction_Cost.drop('UNIT', axis=1)\n",
    "df_Ireland_Construction_Cost = df_Ireland_Construction_Cost.drop('State', axis=1)\n",
    "\n",
    "#Rename Colloumn as a main value\n",
    "df_Ireland_Construction_Cost = df_Ireland_Construction_Cost.rename({'VALUE': 'Ireland_Construction_Cost'}, axis=1)\n",
    "\n",
    "#Recalc the index to be 1975 instead 1991\n",
    "\n",
    "#Setting a new variable to store the old first value, it will be used to calculate new porcentages to others values \n",
    "firstValue = float(0)\n",
    "\n",
    "#Iterate on our dataset to change all the values with the new porcentages\n",
    "for i, row in df_Ireland_Construction_Cost.iterrows():\n",
    "    if int(row['Year']) == 1975: #set the value of 100 (new index) and capture the old first value\n",
    "        firstValue = float(row['Ireland_Construction_Cost'])\n",
    "        df_Ireland_Construction_Cost.at[i,'Ireland_Construction_Cost'] = 100\n",
    "    else:\n",
    "        #calculating the new percentage based on a new base index in 1975 = 100\n",
    "        newValue = float(row['Ireland_Construction_Cost']) * 100 / firstValue\n",
    "        df_Ireland_Construction_Cost.at[i,'Ireland_Construction_Cost'] = newValue\n",
    "\n",
    "# Reset Index to equalize after the drops\n",
    "df_Ireland_Construction_Cost.reset_index(drop=True, inplace=True) \n",
    " \n",
    "#Convert Year to Int type\n",
    "df_Ireland_Construction_Cost['Year'] = df_Ireland_Construction_Cost['Year'].astype(int);\n",
    "#Convert Construction_Cost to Float type\n",
    "df_Ireland_Construction_Cost['Ireland_Construction_Cost'] = round(df_Ireland_Construction_Cost['Ireland_Construction_Cost'], 0).astype(float);\n"
   ]
  },
  {
   "cell_type": "code",
   "execution_count": null,
   "id": "8ec06837",
   "metadata": {
    "scrolled": false
   },
   "outputs": [],
   "source": [
    "df_Ireland_Construction_Cost"
   ]
  },
  {
   "cell_type": "markdown",
   "id": "6903435f",
   "metadata": {},
   "source": [
    "### Germany Construction Cost"
   ]
  },
  {
   "cell_type": "code",
   "execution_count": null,
   "id": "4ccb6262",
   "metadata": {},
   "outputs": [],
   "source": [
    "#GERMANY HOUSE CONSTRUCTION COST\n",
    "\n",
    "df_Germany_Construction_Cost = pd.read_csv(\"Germany_Construction_Cost_Index_OPCNRE01DEQ661N.csv\");\n",
    "\n",
    "#Remove the different years from 1975 to 2016:\n",
    "#Iterate on our dataset to change all the values with the new porcentages\n",
    "for i, row in df_Germany_Construction_Cost.iterrows():\n",
    "    df_Germany_Construction_Cost.at[i,'Year'] = df_Germany_Construction_Cost.at[i,'DATE'][0:4]\n",
    "    df_Germany_Construction_Cost.at[i,'Month'] = df_Germany_Construction_Cost.at[i,'DATE'][5:7]\n",
    "    if int(df_Germany_Construction_Cost.at[i,'Year']) < 1975 or int(df_Germany_Construction_Cost.at[i,'Year']) > 2016 or int(df_Germany_Construction_Cost.at[i,'Month']) < 10:\n",
    "        df_Germany_Construction_Cost.drop(i, inplace=True)\n",
    "\n",
    "#Removing the uselles collumns from our datset\n",
    "df_Germany_Construction_Cost = df_Germany_Construction_Cost.drop('DATE', axis=1)\n",
    "df_Germany_Construction_Cost = df_Germany_Construction_Cost.drop('Month', axis=1)\n",
    "\n",
    "#Rename Colloumn as a main value\n",
    "df_Germany_Construction_Cost = df_Germany_Construction_Cost.rename({'OPCNRE01DEQ661N': 'Germany_Construction_Cost'}, axis=1)\n",
    "df_Germany_Construction_Cost = df_Germany_Construction_Cost.rename({'DATE': 'Year'}, axis = 1)\n",
    "\n",
    "#Recalc the index to be 1975 instead 2015\n",
    "\n",
    "#Setting a new variable to store the old first value, it will be used to calculate new porcentages to others values \n",
    "firstValue = float(0)\n",
    "\n",
    "#Iterate on our dataset to change all the values with the new porcentages\n",
    "for i, row in df_Germany_Construction_Cost.iterrows():\n",
    "    if int(row['Year']) == 1975: #set the value of 100 (new index) and capture the old first value\n",
    "        firstValue = float(row['Germany_Construction_Cost'])\n",
    "        df_Germany_Construction_Cost.at[i,'Germany_Construction_Cost'] = 100\n",
    "    else:\n",
    "        #calculating the new percentage based on a new base index in 1975 = 100\n",
    "        newValue = float(row['Germany_Construction_Cost']) * 100 / firstValue\n",
    "        df_Germany_Construction_Cost.at[i,'Germany_Construction_Cost'] = newValue\n",
    "\n",
    "# Reset Index to equalize after the drops\n",
    "df_Germany_Construction_Cost.reset_index(drop=True, inplace=True)\n",
    "\n",
    "\n",
    "#Convert Year to Int type\n",
    "df_Germany_Construction_Cost['Year'] = df_Germany_Construction_Cost['Year'].astype(int);\n",
    "#Convert Construction_Cost to Float type\n",
    "df_Germany_Construction_Cost['Germany_Construction_Cost'] = round(df_Germany_Construction_Cost['Germany_Construction_Cost'], 0).astype(float);\n"
   ]
  },
  {
   "cell_type": "code",
   "execution_count": null,
   "id": "23e3664f",
   "metadata": {},
   "outputs": [],
   "source": [
    "df_Germany_Construction_Cost"
   ]
  },
  {
   "cell_type": "markdown",
   "id": "fdfb983c",
   "metadata": {},
   "source": [
    "### Italy Construction Cost"
   ]
  },
  {
   "cell_type": "code",
   "execution_count": null,
   "id": "a1271c75",
   "metadata": {},
   "outputs": [],
   "source": [
    "#ITALY HOUSE CONSTRUCTION COST\n",
    "\n",
    "df_Italy_Construction_Cost = pd.read_csv(\"Italy_Construction_Cost_Index_OPCNRE01ITM661N.csv\");\n",
    "\n",
    "#Remove the different years from 1975 to 2016:\n",
    "#Iterate on our dataset to change all the values with the new porcentages\n",
    "for i, row in df_Italy_Construction_Cost.iterrows():\n",
    "    df_Italy_Construction_Cost.at[i,'Year'] = df_Italy_Construction_Cost.at[i,'DATE'][0:4]\n",
    "    df_Italy_Construction_Cost.at[i,'Month'] = df_Italy_Construction_Cost.at[i,'DATE'][5:7]\n",
    "    if int(df_Italy_Construction_Cost.at[i,'Year']) < 1975 or int(df_Italy_Construction_Cost.at[i,'Year']) > 2016 or int(df_Italy_Construction_Cost.at[i,'Month']) < 12:\n",
    "        df_Italy_Construction_Cost.drop(i, inplace=True)\n",
    "\n",
    "#Removing the uselles collumns from our datset\n",
    "df_Italy_Construction_Cost = df_Italy_Construction_Cost.drop('DATE', axis=1)\n",
    "df_Italy_Construction_Cost = df_Italy_Construction_Cost.drop('Month', axis=1)\n",
    "\n",
    "#Rename Colloumn as a main value\n",
    "df_Italy_Construction_Cost = df_Italy_Construction_Cost.rename({'OPCNRE01ITM661N': 'Italy_Construction_Cost'}, axis=1)\n",
    "df_Italy_Construction_Cost = df_Italy_Construction_Cost.rename({'DATE': 'Year'}, axis=1)\n",
    "\n",
    "#Recalc the index to be 1975 instead 2015\n",
    "\n",
    "#Setting a new variable to store the old first value, it will be used to calculate new porcentages to others values \n",
    "firstValue = float(0)\n",
    "\n",
    "#Iterate on our dataset to change all the values with the new porcentages\n",
    "for i, row in df_Italy_Construction_Cost.iterrows():\n",
    "    if int(row['Year']) == 1975: #set the value of 100 (new index) and capture the old first value\n",
    "        firstValue = float(row['Italy_Construction_Cost'])\n",
    "        df_Italy_Construction_Cost.at[i,'Italy_Construction_Cost'] = 100\n",
    "    else:\n",
    "        #calculating the new percentage based on a new base index in 1975 = 100\n",
    "        newValue = float(row['Italy_Construction_Cost']) * 100 / firstValue\n",
    "        df_Italy_Construction_Cost.at[i,'Italy_Construction_Cost'] = newValue\n",
    "\n",
    "# Reset Index to equalize after the drops\n",
    "df_Italy_Construction_Cost.reset_index(drop=True, inplace=True)\n",
    "\n",
    "#Convert Year to Int type\n",
    "df_Italy_Construction_Cost['Year'] = df_Italy_Construction_Cost['Year'].astype(int);\n",
    "#Convert Construction_Cost to Float type\n",
    "df_Italy_Construction_Cost['Italy_Construction_Cost'] = round(df_Italy_Construction_Cost['Italy_Construction_Cost'], 0).astype(float);\n",
    "\n"
   ]
  },
  {
   "cell_type": "code",
   "execution_count": null,
   "id": "21c078db",
   "metadata": {},
   "outputs": [],
   "source": [
    "df_Italy_Construction_Cost"
   ]
  },
  {
   "cell_type": "markdown",
   "id": "be67e37a",
   "metadata": {},
   "source": [
    "### All Countries Construction Cost"
   ]
  },
  {
   "cell_type": "code",
   "execution_count": null,
   "id": "69aaec5c",
   "metadata": {},
   "outputs": [],
   "source": [
    "# Now its time to merge the datasets about cost\n",
    "# \n",
    "#df_Ireland_Construction_Cost \n",
    "#df_Germany_Construction_Cost \n",
    "#df_Italy_Construction_Cost\n",
    "\n",
    "df1 = pd.DataFrame.merge(df_Ireland_Construction_Cost,df_Germany_Construction_Cost,on='Year')\n",
    "df_All_Countries_Construction_Cost = pd.DataFrame.merge(df1, df_Italy_Construction_Cost,on='Year')"
   ]
  },
  {
   "cell_type": "code",
   "execution_count": null,
   "id": "0f96b914",
   "metadata": {},
   "outputs": [],
   "source": [
    "df_All_Countries_Construction_Cost"
   ]
  },
  {
   "cell_type": "markdown",
   "id": "d5016378",
   "metadata": {},
   "source": [
    "## TOTAL CONSTRUCTION"
   ]
  },
  {
   "cell_type": "markdown",
   "id": "19542295",
   "metadata": {},
   "source": [
    "."
   ]
  },
  {
   "cell_type": "code",
   "execution_count": null,
   "id": "835b6857",
   "metadata": {},
   "outputs": [],
   "source": [
    "# Default values to Total Construction\n",
    "# INDEX = 2001 \n",
    "# Range = 2001 to 2022\n",
    "# Period = years\n",
    "\n",
    "#Ireland_Construction_Total_Construction_Quarter_PRCNTO01IEQ659S.csv  - INDEX = Growth rate same period previous year\n",
    "#Germany_Construction_Total_Construction_Monthly_DEUPROCONMISMEI.csv  - INDEX = 2015\n",
    "#Italy_Construction_Total_Construction_Quarter_ITAPROCONQISMEI.csv    - INDEX = 2015\n",
    "\n",
    "#opening datasets with construction Total values\n",
    "df_Ireland_Construction_Total = pd.read_csv('Ireland_Construction_Total_Construction_Quarter_PRCNTO01IEQ659S.csv') \n",
    "df_Germany_Construction_Total = pd.read_csv(\"Germany_Construction_Total_Construction_Monthly_DEUPROCONMISMEI.csv\");\n",
    "df_Italy_Construction_Total = pd.read_csv(\"Italy_Construction_Total_Construction_Quarter_ITAPROCONQISMEI.csv\");"
   ]
  },
  {
   "cell_type": "markdown",
   "id": "6cc9cce4",
   "metadata": {},
   "source": [
    "### Ireland Total Construction"
   ]
  },
  {
   "cell_type": "code",
   "execution_count": null,
   "id": "935e961d",
   "metadata": {},
   "outputs": [],
   "source": [
    "#IRELAND TOTAL CONSTRUCTION\n",
    "\n",
    "df_Ireland_Construction_Total = pd.read_csv('Ireland_Construction_Total_Construction.csv') \n",
    "\n",
    "#Iterate with the dataset to create independent columns year and month based on DATE column\n",
    "for i, row in df_Ireland_Construction_Total.iterrows():\n",
    "    df_Ireland_Construction_Total.at[i,'Year'] = df_Ireland_Construction_Total.at[i,'DATE'][0:4]\n",
    "    df_Ireland_Construction_Total.at[i,'Month'] = df_Ireland_Construction_Total.at[i,'DATE'][5:7]    \n",
    "    \n",
    "#Rename column as a main value\n",
    "df_Ireland_Construction_Total = df_Ireland_Construction_Total.rename({'PRCNTO01IEQ657S': 'Ireland_Construction_Total'}, axis=1)\n",
    "df_Ireland_Construction_Total = df_Ireland_Construction_Total.rename({'DATE': 'Date'}, axis=1)\n",
    "\n",
    "#Setting a new variable to store the old first value, it will be used to calculate new porcentages to others values \n",
    "previousValue = float(0)\n",
    "\n",
    "#Iterate on our dataset to change all the values with the new porcentages\n",
    "for i, row in df_Ireland_Construction_Total.iterrows():\n",
    "    if int(row['Year']) == 2001: #set the value of 100 (new index) and capture the old first value\n",
    "        previousValue = float(100)\n",
    "        df_Ireland_Construction_Total.at[i,'Ireland_Construction_Total'] = 100\n",
    "    else:\n",
    "        #calculating the new percentage based on a new base index in 2001 = 100\n",
    "        newValue = (float(row['Ireland_Construction_Total'])/100 * previousValue) + previousValue\n",
    "        previousValue = newValue\n",
    "        df_Ireland_Construction_Total.at[i,'Ireland_Construction_Total'] = newValue\n",
    "\n",
    "#Iterate on our dataset to Remove the useles years\n",
    "for i, row in df_Ireland_Construction_Total.iterrows():\n",
    "    if int(df_Ireland_Construction_Total.at[i,'Year']) < 2001 or int(df_Ireland_Construction_Total.at[i,'Year']) > 2022 or int(df_Ireland_Construction_Total.at[i,'Month']) < 10:\n",
    "        df_Ireland_Construction_Total.drop(i, inplace=True)\n",
    "        \n",
    "#Removing the uselles collumns from our datset\n",
    "df_Ireland_Construction_Total = df_Ireland_Construction_Total.drop('Date', axis=1)\n",
    "df_Ireland_Construction_Total = df_Ireland_Construction_Total.drop('Month', axis=1)\n",
    "\n",
    "       \n",
    "# Reset Index to equalize after the drops\n",
    "df_Ireland_Construction_Total.reset_index(drop=True, inplace=True)\n",
    "        \n",
    "#Convert Year to Int type\n",
    "df_Ireland_Construction_Total['Year'] = df_Ireland_Construction_Total['Year'].astype(int);\n",
    "#Convert Construction_Cost to Float type\n",
    "df_Ireland_Construction_Total['Ireland_Construction_Total'] = round(df_Ireland_Construction_Total['Ireland_Construction_Total'], 0).astype(float);"
   ]
  },
  {
   "cell_type": "code",
   "execution_count": null,
   "id": "b879d0b7",
   "metadata": {},
   "outputs": [],
   "source": [
    "df_Ireland_Construction_Total"
   ]
  },
  {
   "cell_type": "code",
   "execution_count": null,
   "id": "6f2614fc",
   "metadata": {},
   "outputs": [],
   "source": [
    "#Convert Year to Int type\n",
    "df_Ireland_Construction_Total['Year'] = df_Ireland_Construction_Total['Year'].astype(int);\n",
    "#Convert Construction_Cost to Float type\n",
    "df_Ireland_Construction_Total['Ireland_Construction_Total'] = round(df_Ireland_Construction_Total['Ireland_Construction_Total'], 0).astype(float);"
   ]
  },
  {
   "cell_type": "code",
   "execution_count": null,
   "id": "c2e5bd3d",
   "metadata": {},
   "outputs": [],
   "source": [
    "df_Ireland_Construction_Total"
   ]
  },
  {
   "cell_type": "markdown",
   "id": "8415bbaf",
   "metadata": {},
   "source": [
    "### Germany Total Construction"
   ]
  },
  {
   "cell_type": "code",
   "execution_count": null,
   "id": "785536ea",
   "metadata": {},
   "outputs": [],
   "source": [
    "#GERMANY TOTAL CONSTRUCTION\n",
    "\n",
    "df_Germany_Construction_Total = pd.read_csv(\"Germany_Construction_Total_Construction_Monthly_DEUPROCONMISMEI.csv\")\n",
    "\n",
    "#Remove the different years from 1975 to 2016:\n",
    "#Iterate on our dataset to change all the values with the new porcentages\n",
    "for i, row in df_Germany_Construction_Total.iterrows():\n",
    "    df_Germany_Construction_Total.at[i,'Year'] = df_Germany_Construction_Total.at[i,'DATE'][0:4]\n",
    "    df_Germany_Construction_Total.at[i,'Month'] = df_Germany_Construction_Total.at[i,'DATE'][5:7]\n",
    "    #if int(df_Germany_Construction_Total.at[i,'Year']) < 2001 or int(df_Germany_Construction_Total.at[i,'Year']) > 2022 or (int(df_Germany_Construction_Total.at[i,'Month']) > 10 and int(df_Germany_Construction_Total.at[i,'Year']) == 2022):\n",
    "    if int(df_Germany_Construction_Total.at[i,'Year']) < 2001 or int(df_Germany_Construction_Total.at[i,'Year']) > 2022 or int(df_Germany_Construction_Total.at[i,'Month']) < 12:\n",
    "        df_Germany_Construction_Total.drop(i, inplace=True)\n",
    "\n",
    "#Removing the uselles collumns from our datset\n",
    "df_Germany_Construction_Total = df_Germany_Construction_Total.drop('DATE', axis=1)\n",
    "df_Germany_Construction_Total = df_Germany_Construction_Total.drop('Month', axis=1)\n",
    "\n",
    "#Rename Colloumn as a main value\n",
    "df_Germany_Construction_Total = df_Germany_Construction_Total.rename({'DEUPROCONMISMEI': 'Germany_Construction_Total'}, axis=1)\n",
    "#df_Germany_Construction_Total = df_Germany_Construction_Total.rename({'DATE': 'Date'}, axis=1)\n",
    "\n",
    "#Recalc the index to be 1975 instead 2015\n",
    "\n",
    "#Setting a new variable to store the old first value, it will be used to calculate new porcentages to others values \n",
    "firstValue = float(0)\n",
    "\n",
    "#Iterate on our dataset to change all the values with the new porcentages\n",
    "for i, row in df_Germany_Construction_Total.iterrows():\n",
    "    if int(row['Year']) == 2001: #set the value of 100 (new index) and capture the old first value\n",
    "        firstValue = float(row['Germany_Construction_Total'])\n",
    "        df_Germany_Construction_Total.at[i,'Germany_Construction_Total'] = 100\n",
    "    else:\n",
    "        #calculating the new percentage based on a new base index in 1975 = 100\n",
    "        newValue = float(row['Germany_Construction_Total']) * 100 / firstValue\n",
    "        df_Germany_Construction_Total.at[i,'Germany_Construction_Total'] = newValue\n",
    "\n",
    "# Reset Index to equalize after the drops\n",
    "df_Germany_Construction_Total.reset_index(drop=True, inplace=True)\n",
    "\n",
    "#Convert Year to Int type\n",
    "df_Germany_Construction_Total['Year'] = df_Germany_Construction_Total['Year'].astype(int);\n",
    "#Convert Construction_Cost to Float type\n",
    "df_Germany_Construction_Total['Germany_Construction_Total'] = round(df_Germany_Construction_Total['Germany_Construction_Total'], 0).astype(float);"
   ]
  },
  {
   "cell_type": "code",
   "execution_count": null,
   "id": "b54ee44f",
   "metadata": {
    "scrolled": true
   },
   "outputs": [],
   "source": [
    "df_Germany_Construction_Total"
   ]
  },
  {
   "cell_type": "markdown",
   "id": "4d07c8ae",
   "metadata": {},
   "source": [
    "### Italy Total Contruction"
   ]
  },
  {
   "cell_type": "code",
   "execution_count": null,
   "id": "fd2ca70d",
   "metadata": {},
   "outputs": [],
   "source": [
    "#ITALY TOTAL CONSTRUCTION\n",
    "\n",
    "df_Italy_Construction_Total = pd.read_csv(\"Italy_Construction_Total_Construction_Quarter_ITAPROCONQISMEI.csv\");\n",
    "\n",
    "#Remove the different years from 2001 to 2022:\n",
    "#Iterate on our dataset to change all the values with the new porcentages\n",
    "for i, row in df_Italy_Construction_Total.iterrows():\n",
    "    df_Italy_Construction_Total.at[i,'Year'] = df_Italy_Construction_Total.at[i,'DATE'][0:4]\n",
    "    df_Italy_Construction_Total.at[i,'Month'] = df_Italy_Construction_Total.at[i,'DATE'][5:7]\n",
    "    if int(df_Italy_Construction_Total.at[i,'Year']) < 2001 or int(df_Italy_Construction_Total.at[i,'Year']) > 2022 or int(df_Italy_Construction_Total.at[i,'Month']) < 10:\n",
    "        df_Italy_Construction_Total.drop(i, inplace=True)\n",
    "\n",
    "#Removing the uselles collumns from our datset\n",
    "df_Italy_Construction_Total = df_Italy_Construction_Total.drop('DATE', axis=1)\n",
    "df_Italy_Construction_Total = df_Italy_Construction_Total.drop('Month', axis=1)\n",
    "\n",
    "#Rename Colloumn as a main value\n",
    "df_Italy_Construction_Total = df_Italy_Construction_Total.rename({'ITAPROCONQISMEI': 'Italy_Construction_Total'}, axis=1)\n",
    "#df_Italy_Construction_Total = df_Italy_Construction_Total.rename({'DATE': 'Date'}, axis=1)\n",
    "\n",
    "#Recalc the index to be 1975 instead 2015\n",
    "\n",
    "#Setting a new variable to store the old first value, it will be used to calculate new porcentages to others values \n",
    "firstValue = float(0)\n",
    "\n",
    "#Iterate on our dataset to change all the values with the new porcentages\n",
    "for i, row in df_Italy_Construction_Total.iterrows():\n",
    "    if int(row['Year']) == 2001: #set the value of 100 (new index) and capture the old first value\n",
    "        firstValue = float(row['Italy_Construction_Total'])\n",
    "        df_Italy_Construction_Total.at[i,'Italy_Construction_Total'] = 100\n",
    "    else:\n",
    "        #calculating the new percentage based on a new base index in 1975 = 100\n",
    "        newValue = float(row['Italy_Construction_Total']) * 100 / firstValue\n",
    "        df_Italy_Construction_Total.at[i,'Italy_Construction_Total'] = newValue\n",
    "\n",
    "# Reset Index to equalize after the drops\n",
    "df_Italy_Construction_Total.reset_index(drop=True, inplace=True)\n",
    "\n",
    "#Convert Year to Int type\n",
    "df_Italy_Construction_Total['Year'] = df_Italy_Construction_Total['Year'].astype(int);\n",
    "#Convert Construction_Cost to Float type\n",
    "df_Italy_Construction_Total['Italy_Construction_Total'] = round(df_Italy_Construction_Total['Italy_Construction_Total'], 0).astype(float);"
   ]
  },
  {
   "cell_type": "code",
   "execution_count": null,
   "id": "da0b3db8",
   "metadata": {},
   "outputs": [],
   "source": [
    "df_Italy_Construction_Total"
   ]
  },
  {
   "cell_type": "markdown",
   "id": "176ac7c9",
   "metadata": {},
   "source": [
    "### All Countries Total Construction"
   ]
  },
  {
   "cell_type": "code",
   "execution_count": null,
   "id": "59205c70",
   "metadata": {},
   "outputs": [],
   "source": [
    "#df_Ireland_Construction_Total\n",
    "#df_Germany_Construction_Total\n",
    "#df_Italy_Construction_Total\n",
    "\n",
    "df2 = pd.DataFrame.merge(df_Ireland_Construction_Total, df_Germany_Construction_Total, on='Year')\n",
    "df_All_Countries_Construction_Total = pd.DataFrame.merge(df2, df_Italy_Construction_Total, on='Year')"
   ]
  },
  {
   "cell_type": "code",
   "execution_count": null,
   "id": "9af15c6d",
   "metadata": {},
   "outputs": [],
   "source": [
    "df_All_Countries_Construction_Total"
   ]
  },
  {
   "cell_type": "markdown",
   "id": "b4d075a3",
   "metadata": {},
   "source": [
    "## Construction Employment "
   ]
  },
  {
   "cell_type": "code",
   "execution_count": null,
   "id": "0db6157e",
   "metadata": {},
   "outputs": [],
   "source": [
    "# Default values to Construction Employment \n",
    "# Range = 2001 to 2022\n",
    "# Period = years\n",
    "\n",
    "#Ireland_Construction_Employment_LFEACNTTIEQ647S.csv  \n",
    "#Germany_Construction_Employment_LFEACNTTDEQ647S.csv  \n",
    "#Italy_Construction_Employment_LFEACNTTITQ647S.csv    \n",
    "\n",
    "#opening datasets with construction Total values\n",
    "df_Ireland_Construction_Employment = pd.read_csv('Ireland_Construction_Employment_LFEACNTTIEQ647S.csv') \n",
    "df_Germany_Construction_Employment = pd.read_csv(\"Germany_Construction_Employment_LFEACNTTDEQ647S.csv\");\n",
    "df_Italy_Construction_Employment = pd.read_csv(\"Italy_Construction_Employment_LFEACNTTITQ647S.csv\");"
   ]
  },
  {
   "cell_type": "markdown",
   "id": "fff4aa95",
   "metadata": {},
   "source": [
    "### Ireland Construction Employment "
   ]
  },
  {
   "cell_type": "code",
   "execution_count": null,
   "id": "6719b358",
   "metadata": {},
   "outputs": [],
   "source": [
    "#IRELAND CONSTRUCTION EMPLOYMENT\n",
    "\n",
    "df_Ireland_Construction_Employment = pd.read_csv('Ireland_Construction_Employment_LFEACNTTIEQ647S.csv') \n",
    "\n",
    "#Remove the different years from 2005 to 2022:\n",
    "#Iterate on our dataset to change all the values with the new porcentages\n",
    "for i, row in df_Ireland_Construction_Employment.iterrows():\n",
    "    df_Ireland_Construction_Employment.at[i,'Year'] = df_Ireland_Construction_Employment.at[i,'DATE'][0:4]\n",
    "    df_Ireland_Construction_Employment.at[i,'Month'] = df_Ireland_Construction_Employment.at[i,'DATE'][5:7]\n",
    "    if int(df_Ireland_Construction_Employment.at[i,'Year']) < 2005 or int(df_Ireland_Construction_Employment.at[i,'Year']) > 2022 or int(df_Ireland_Construction_Employment.at[i,'Month']) < 10:\n",
    "        df_Ireland_Construction_Employment.drop(i, inplace=True)\n",
    "\n",
    "#Removing the uselles collumns from our datset\n",
    "df_Ireland_Construction_Employment = df_Ireland_Construction_Employment.drop('DATE', axis=1)\n",
    "df_Ireland_Construction_Employment = df_Ireland_Construction_Employment.drop('Month', axis=1)\n",
    "\n",
    "#Rename Colloumn as a main value\n",
    "df_Ireland_Construction_Employment = df_Ireland_Construction_Employment.rename({'LFEACNTTIEQ647S': 'Ireland_Construction_Employment'}, axis=1)\n",
    "\n",
    "# Reset Index to equalize after the drops\n",
    "df_Ireland_Construction_Employment.reset_index(drop=True, inplace=True)\n",
    "\n",
    "#Convert Year to Int type\n",
    "df_Ireland_Construction_Employment['Year'] = df_Ireland_Construction_Employment['Year'].astype(int);\n",
    "#Convert Construction_Cost to Float type\n",
    "df_Ireland_Construction_Employment['Ireland_Construction_Employment'] = round(df_Ireland_Construction_Employment['Ireland_Construction_Employment'], 0).astype(float);"
   ]
  },
  {
   "cell_type": "code",
   "execution_count": null,
   "id": "b8fa9be1",
   "metadata": {},
   "outputs": [],
   "source": [
    "df_Ireland_Construction_Employment"
   ]
  },
  {
   "cell_type": "markdown",
   "id": "f977feb9",
   "metadata": {},
   "source": [
    "### Germany Construction Employment"
   ]
  },
  {
   "cell_type": "code",
   "execution_count": null,
   "id": "513d9d72",
   "metadata": {},
   "outputs": [],
   "source": [
    "#GERMANY CONSTRUCTION EMPLOYMENT\n",
    "\n",
    "df_Germany_Construction_Employment = pd.read_csv(\"Germany_Construction_Employment_LFEACNTTDEQ647S.csv\");\n",
    "\n",
    "#Remove the different years from 2005 to 2022:\n",
    "#Iterate on our dataset to change all the values with the new porcentages\n",
    "for i, row in df_Germany_Construction_Employment.iterrows():\n",
    "    df_Germany_Construction_Employment.at[i,'Year'] = df_Germany_Construction_Employment.at[i,'DATE'][0:4]\n",
    "    df_Germany_Construction_Employment.at[i,'Month'] = df_Germany_Construction_Employment.at[i,'DATE'][5:7]\n",
    "    if int(df_Germany_Construction_Employment.at[i,'Month']) < 10:\n",
    "        df_Germany_Construction_Employment.drop(i, inplace=True)\n",
    "\n",
    "#Removing the uselles collumns from our datset\n",
    "df_Germany_Construction_Employment = df_Germany_Construction_Employment.drop('DATE', axis=1)\n",
    "df_Germany_Construction_Employment = df_Germany_Construction_Employment.drop('Month', axis=1)\n",
    "\n",
    "#Rename Colloumn as a main value\n",
    "df_Germany_Construction_Employment = df_Germany_Construction_Employment.rename({'LFEACNTTDEQ647S': 'Germany_Construction_Employment'}, axis=1)\n",
    "\n",
    "# Reset Index to equalize after the drops\n",
    "df_Germany_Construction_Employment.reset_index(drop=True, inplace=True)\n",
    "\n",
    "#Convert Year to Int type\n",
    "df_Germany_Construction_Employment['Year'] = df_Germany_Construction_Employment['Year'].astype(int);\n",
    "#Convert Construction_Cost to Float type\n",
    "df_Germany_Construction_Employment['Germany_Construction_Employment'] = round(df_Germany_Construction_Employment['Germany_Construction_Employment'], 0).astype(float);"
   ]
  },
  {
   "cell_type": "code",
   "execution_count": null,
   "id": "28f41e8d",
   "metadata": {
    "scrolled": true
   },
   "outputs": [],
   "source": [
    "df_Germany_Construction_Employment"
   ]
  },
  {
   "cell_type": "markdown",
   "id": "2f157f4a",
   "metadata": {},
   "source": [
    "### Italy Construction Employment "
   ]
  },
  {
   "cell_type": "code",
   "execution_count": null,
   "id": "65bbe0eb",
   "metadata": {},
   "outputs": [],
   "source": [
    "#ITALY CONSTRUCTION EMPLOYMENT\n",
    "\n",
    "df_Italy_Construction_Employment = pd.read_csv(\"Italy_Construction_Employment_LFEACNTTITQ647S.csv\");\n",
    "\n",
    "#Remove the different years from 2005 to 2022:\n",
    "#Iterate on our dataset to change all the values with the new porcentages\n",
    "for i, row in df_Italy_Construction_Employment.iterrows():\n",
    "    df_Italy_Construction_Employment.at[i,'Year'] = df_Italy_Construction_Employment.at[i,'DATE'][0:4]\n",
    "    df_Italy_Construction_Employment.at[i,'Month'] = df_Italy_Construction_Employment.at[i,'DATE'][5:7]\n",
    "    if int(df_Italy_Construction_Employment.at[i,'Year']) < 2005 or int(df_Italy_Construction_Employment.at[i,'Year']) > 2022 or int(df_Italy_Construction_Employment.at[i,'Month']) < 10:\n",
    "        df_Italy_Construction_Employment.drop(i, inplace=True)\n",
    "\n",
    "#Removing the uselles collumns from our datset\n",
    "df_Italy_Construction_Employment = df_Italy_Construction_Employment.drop('DATE', axis=1)\n",
    "df_Italy_Construction_Employment = df_Italy_Construction_Employment.drop('Month', axis=1)\n",
    "\n",
    "#Rename Colloumn as a main value\n",
    "df_Italy_Construction_Employment = df_Italy_Construction_Employment.rename({'LFEACNTTITQ647S': 'Italy_Construction_Employment'}, axis=1)\n",
    "\n",
    "# Reset Index to equalize after the drops\n",
    "df_Italy_Construction_Employment.reset_index(drop=True, inplace=True)\n",
    "\n",
    "#Convert Year to Int type\n",
    "df_Italy_Construction_Employment['Year'] = df_Italy_Construction_Employment['Year'].astype(int);\n",
    "#Convert Construction_Cost to Float type\n",
    "df_Italy_Construction_Employment['Italy_Construction_Employment'] = round(df_Italy_Construction_Employment['Italy_Construction_Employment'], 0).astype(float);"
   ]
  },
  {
   "cell_type": "code",
   "execution_count": null,
   "id": "7de67011",
   "metadata": {
    "scrolled": true
   },
   "outputs": [],
   "source": [
    "df_Italy_Construction_Employment"
   ]
  },
  {
   "cell_type": "markdown",
   "id": "80a8d919",
   "metadata": {},
   "source": [
    "### All Countries Construction Employment"
   ]
  },
  {
   "cell_type": "code",
   "execution_count": null,
   "id": "c4388aeb",
   "metadata": {},
   "outputs": [],
   "source": [
    "#df_Ireland_Construction_Employment \n",
    "#df_Germany_Construction_Employment\n",
    "#df_Italy_Construction_Employment\n",
    "\n",
    "df3 = pd.DataFrame.merge(df_Ireland_Construction_Employment, df_Germany_Construction_Employment, on='Year')\n",
    "df_All_Countries_Construction_Employment = pd.DataFrame.merge(df3, df_Italy_Construction_Employment, on='Year')"
   ]
  },
  {
   "cell_type": "code",
   "execution_count": null,
   "id": "67d263ab",
   "metadata": {
    "scrolled": true
   },
   "outputs": [],
   "source": [
    "df_All_Countries_Construction_Employment"
   ]
  },
  {
   "cell_type": "markdown",
   "id": "e845c209",
   "metadata": {},
   "source": [
    "## Population Total "
   ]
  },
  {
   "cell_type": "code",
   "execution_count": null,
   "id": "91081b27",
   "metadata": {},
   "outputs": [],
   "source": [
    "# Default values to Construction Employment \n",
    "# Range = 2005 to 2022\n",
    "# Period = years\n",
    "\n",
    "#Ireland_Population_Total_POPTOTIEA647NWDB.csv  \n",
    "#Germany_Population_Total_POPTOTDEA647NWDB.csv  \n",
    "#Italy_Population_Total_POPTOTITA647NWDB.csv    \n",
    "\n",
    "#opening datasets with construction Total values\n",
    "#df_Ireland_Population_Total = pd.read_csv('Ireland_Population_Total_POPTOTIEA647NWDB.csv') \n",
    "#df_Germany_Population_Total = pd.read_csv(\"Germany_Population_Total_POPTOTDEA647NWDB.csv\");\n",
    "#df_Italy_Population_Total = pd.read_csv(\"Italy_Population_Total_POPTOTITA647NWDB.csv\");"
   ]
  },
  {
   "cell_type": "markdown",
   "id": "7beadc62",
   "metadata": {},
   "source": [
    "### Ireland Population Total"
   ]
  },
  {
   "cell_type": "code",
   "execution_count": null,
   "id": "b70805ce",
   "metadata": {},
   "outputs": [],
   "source": []
  },
  {
   "cell_type": "code",
   "execution_count": null,
   "id": "1e9963e4",
   "metadata": {},
   "outputs": [],
   "source": [
    "df_Ireland_Population_Total = pd.read_csv(\"Ireland_Population_Total_POPTOTIEA647NWDB.csv\");\n",
    "\n",
    "#Remove the different years from 2005 to 2022:\n",
    "#Iterate on our dataset to change all the values with the new porcentages\n",
    "for i, row in df_Ireland_Population_Total.iterrows():\n",
    "    df_Ireland_Population_Total.at[i,'Year'] = df_Ireland_Population_Total.at[i,'DATE'][0:4]\n",
    "    df_Ireland_Population_Total.at[i,'Month'] = df_Ireland_Population_Total.at[i,'DATE'][5:7]\n",
    "    if int(df_Ireland_Population_Total.at[i,'Year']) < 2005 or int(df_Ireland_Population_Total.at[i,'Year']) > 2022:\n",
    "        df_Ireland_Population_Total.drop(i, inplace=True)\n",
    "\n",
    "#Removing the uselles collumns from our datset\n",
    "df_Ireland_Population_Total = df_Ireland_Population_Total.drop('DATE', axis=1)\n",
    "df_Ireland_Population_Total = df_Ireland_Population_Total.drop('Month', axis=1)\n",
    "\n",
    "#Rename Colloumn as a main value\n",
    "df_Ireland_Population_Total = df_Ireland_Population_Total.rename({'POPTOTIEA647NWDB': 'Ireland_Population_Total'}, axis=1)\n",
    "\n",
    "# Reset Index to equalize after the drops\n",
    "df_Ireland_Population_Total.reset_index(drop=True, inplace=True)\n",
    "\n",
    "#Convert Year to Int type\n",
    "df_Ireland_Population_Total['Year'] = df_Ireland_Population_Total['Year'].astype(int);\n",
    "#Convert Construction_Cost to Float type\n",
    "df_Ireland_Population_Total['Ireland_Population_Total'] = round(df_Ireland_Population_Total['Ireland_Population_Total'], 0).astype(float);"
   ]
  },
  {
   "cell_type": "code",
   "execution_count": null,
   "id": "929f08f5",
   "metadata": {
    "scrolled": true
   },
   "outputs": [],
   "source": [
    "df_Ireland_Population_Total"
   ]
  },
  {
   "cell_type": "markdown",
   "id": "f6326d81",
   "metadata": {},
   "source": [
    "### Germany Population Total"
   ]
  },
  {
   "cell_type": "code",
   "execution_count": null,
   "id": "3fc735ef",
   "metadata": {},
   "outputs": [],
   "source": [
    "df_Germany_Population_Total = pd.read_csv(\"Germany_Population_Total_POPTOTDEA647NWDB.csv\");\n",
    "\n",
    "#Remove the different years from 2005 to 2022:\n",
    "#Iterate on our dataset to change all the values with the new porcentages\n",
    "for i, row in df_Germany_Population_Total.iterrows():\n",
    "    df_Germany_Population_Total.at[i,'Year'] = df_Germany_Population_Total.at[i,'DATE'][0:4]\n",
    "    df_Germany_Population_Total.at[i,'Month'] = df_Germany_Population_Total.at[i,'DATE'][5:7]\n",
    "    if int(df_Germany_Population_Total.at[i,'Year']) < 2005 or int(df_Germany_Population_Total.at[i,'Year']) > 2022:\n",
    "        df_Germany_Population_Total.drop(i, inplace=True)\n",
    "\n",
    "#Removing the uselles collumns from our datset\n",
    "df_Germany_Population_Total = df_Germany_Population_Total.drop('DATE', axis=1)\n",
    "df_Germany_Population_Total = df_Germany_Population_Total.drop('Month', axis=1)\n",
    "\n",
    "#Rename Colloumn as a main value\n",
    "df_Germany_Population_Total = df_Germany_Population_Total.rename({'POPTOTDEA647NWDB': 'Germany_Population_Total'}, axis=1)\n",
    "\n",
    "# Reset Index to equalize after the drops\n",
    "df_Germany_Population_Total.reset_index(drop=True, inplace=True)\n",
    "\n",
    "#Convert Year to Int type\n",
    "df_Germany_Population_Total['Year'] = df_Germany_Population_Total['Year'].astype(int);\n",
    "#Convert Construction_Cost to Float type\n",
    "df_Germany_Population_Total['Germany_Population_Total'] = round(df_Germany_Population_Total['Germany_Population_Total'], 0).astype(float);"
   ]
  },
  {
   "cell_type": "code",
   "execution_count": null,
   "id": "9d393f26",
   "metadata": {},
   "outputs": [],
   "source": [
    "df_Germany_Population_Total"
   ]
  },
  {
   "cell_type": "markdown",
   "id": "223b9cfc",
   "metadata": {},
   "source": [
    "### Italy Population Total"
   ]
  },
  {
   "cell_type": "code",
   "execution_count": null,
   "id": "c0083d6f",
   "metadata": {},
   "outputs": [],
   "source": [
    "df_Italy_Population_Total = pd.read_csv(\"Italy_Population_Total_POPTOTITA647NWDB.csv\");\n",
    "\n",
    "#Remove the different years from 2005 to 2022:\n",
    "#Iterate on our dataset to change all the values with the new porcentages\n",
    "for i, row in df_Italy_Population_Total.iterrows():\n",
    "    df_Italy_Population_Total.at[i,'Year'] = df_Italy_Population_Total.at[i,'DATE'][0:4]\n",
    "    df_Italy_Population_Total.at[i,'Month'] = df_Italy_Population_Total.at[i,'DATE'][5:7]\n",
    "    if int(df_Italy_Population_Total.at[i,'Year']) < 2005 or int(df_Italy_Population_Total.at[i,'Year']) > 2022:\n",
    "        df_Italy_Population_Total.drop(i, inplace=True)\n",
    "\n",
    "#Removing the uselles collumns from our datset\n",
    "df_Italy_Population_Total = df_Italy_Population_Total.drop('DATE', axis=1)\n",
    "df_Italy_Population_Total = df_Italy_Population_Total.drop('Month', axis=1)\n",
    "\n",
    "#Rename Colloumn as a main value\n",
    "df_Italy_Population_Total = df_Italy_Population_Total.rename({'POPTOTITA647NWDB': 'Italy_Population_Total'}, axis=1)\n",
    "\n",
    "# Reset Index to equalize after the drops\n",
    "df_Italy_Population_Total.reset_index(drop=True, inplace=True)\n",
    "\n",
    "#Convert Year to Int type\n",
    "df_Italy_Population_Total['Year'] = df_Italy_Population_Total['Year'].astype(int);\n",
    "#Convert Construction_Cost to Float type\n",
    "df_Italy_Population_Total['Italy_Population_Total'] = round(df_Italy_Population_Total['Italy_Population_Total'], 0).astype(float);"
   ]
  },
  {
   "cell_type": "code",
   "execution_count": null,
   "id": "62aaf065",
   "metadata": {
    "scrolled": true
   },
   "outputs": [],
   "source": [
    "df_Italy_Population_Total"
   ]
  },
  {
   "cell_type": "markdown",
   "id": "99294e84",
   "metadata": {},
   "source": [
    "## All Countries Total Population"
   ]
  },
  {
   "cell_type": "code",
   "execution_count": null,
   "id": "09906bcb",
   "metadata": {},
   "outputs": [],
   "source": [
    "\n",
    "df4 = pd.DataFrame.merge(df_Ireland_Population_Total, df_Germany_Population_Total, on='Year')\n",
    "df_All_Countries_Population_Total = pd.DataFrame.merge(df4, df_Italy_Population_Total, on='Year')"
   ]
  },
  {
   "cell_type": "code",
   "execution_count": null,
   "id": "7bbcaa08",
   "metadata": {
    "scrolled": true
   },
   "outputs": [],
   "source": [
    "df_All_Countries_Population_Total"
   ]
  },
  {
   "cell_type": "markdown",
   "id": "bf648d31",
   "metadata": {},
   "source": [
    "## Population Total - Active People"
   ]
  },
  {
   "cell_type": "code",
   "execution_count": null,
   "id": "44d1d4d7",
   "metadata": {},
   "outputs": [],
   "source": [
    "# Default values to Construction Employment \n",
    "# Range = 2005 to 2022\n",
    "# Period = years\n",
    "\n",
    "#Ireland_Population_Total_Active_LFAC64TTIEQ647S.csv  \n",
    "#Germany_Population_Total_Active_LFAC64TTDEQ647S.csv  \n",
    "#Italy_Population_Total_Active_LFAC64TTITQ647S.csv    \n",
    "\n",
    "#opening datasets with construction Total values\n",
    "#df_Ireland_Population_Total_Active = pd.read_csv('Ireland_Population_Total_Active_LFAC64TTIEQ647S.csv') \n",
    "#df_Germany_Population_Total_Active = pd.read_csv(\"Germany_Population_Total_Active_LFAC64TTDEQ647S.csv\");\n",
    "#df_Italy_Population_Total_Active = pd.read_csv(\"Italy_Population_Total_Active_LFAC64TTITQ647S.csv\");"
   ]
  },
  {
   "cell_type": "markdown",
   "id": "383c9cef",
   "metadata": {},
   "source": [
    "### Ireland Population Total - Active People "
   ]
  },
  {
   "cell_type": "code",
   "execution_count": null,
   "id": "932c9378",
   "metadata": {},
   "outputs": [],
   "source": [
    "df_Ireland_Population_Total_Active = pd.read_csv('Ireland_Population_Total_Active_LFAC64TTIEQ647S.csv')\n",
    "df_Ireland_Population_Total_Active"
   ]
  },
  {
   "cell_type": "code",
   "execution_count": null,
   "id": "4e4f9029",
   "metadata": {},
   "outputs": [],
   "source": [
    "df_Ireland_Population_Total_Active = pd.read_csv('Ireland_Population_Total_Active_LFAC64TTIEQ647S.csv')\n",
    "\n",
    "#Remove the different years from 2005 to 2022:\n",
    "#Iterate on our dataset to change all the values with the new porcentages\n",
    "for i, row in df_Ireland_Population_Total_Active.iterrows():\n",
    "    df_Ireland_Population_Total_Active.at[i,'Year'] = df_Ireland_Population_Total_Active.at[i,'DATE'][0:4]\n",
    "    df_Ireland_Population_Total_Active.at[i,'Month'] = df_Ireland_Population_Total_Active.at[i,'DATE'][5:7]\n",
    "    if int(df_Ireland_Population_Total_Active.at[i,'Year']) < 2005 or int(df_Ireland_Population_Total_Active.at[i,'Year']) > 2022 or int(df_Ireland_Population_Total_Active.at[i,'Month']) < 10:\n",
    "        df_Ireland_Population_Total_Active.drop(i, inplace=True)\n",
    "\n",
    "#Removing the uselles collumns from our datset\n",
    "df_Ireland_Population_Total_Active = df_Ireland_Population_Total_Active.drop('DATE', axis=1)\n",
    "df_Ireland_Population_Total_Active = df_Ireland_Population_Total_Active.drop('Month', axis=1)\n",
    "\n",
    "#Rename Colloumn as a main value\n",
    "df_Ireland_Population_Total_Active = df_Ireland_Population_Total_Active.rename({'LFAC64TTIEQ647S': 'Ireland_Population_Total_Active'}, axis=1)\n",
    "\n",
    "# Reset Index to equalize after the drops\n",
    "df_Ireland_Population_Total_Active.reset_index(drop=True, inplace=True)\n",
    "\n",
    "#Convert Year to Int type\n",
    "df_Ireland_Population_Total_Active['Year'] = df_Ireland_Population_Total_Active['Year'].astype(int);\n",
    "#Convert Construction_Cost to Float type\n",
    "df_Ireland_Population_Total_Active['Ireland_Population_Total_Active'] = round(df_Ireland_Population_Total_Active['Ireland_Population_Total_Active'], 0).astype(float);"
   ]
  },
  {
   "cell_type": "code",
   "execution_count": null,
   "id": "df18424c",
   "metadata": {
    "scrolled": true
   },
   "outputs": [],
   "source": [
    "df_Ireland_Population_Total_Active"
   ]
  },
  {
   "cell_type": "markdown",
   "id": "1c813be1",
   "metadata": {},
   "source": [
    "### Germany Total Population - Active"
   ]
  },
  {
   "cell_type": "code",
   "execution_count": null,
   "id": "db3ecf7b",
   "metadata": {},
   "outputs": [],
   "source": [
    "df_Germany_Population_Total_Active = pd.read_csv(\"Germany_Population_Total_Active_LFAC64TTDEQ647S.csv\");\n",
    "\n",
    "#Remove the different years from 2005 to 2022:\n",
    "#Iterate on our dataset to change all the values with the new porcentages\n",
    "for i, row in df_Germany_Population_Total_Active.iterrows():\n",
    "    df_Germany_Population_Total_Active.at[i,'Year'] = df_Germany_Population_Total_Active.at[i,'DATE'][0:4]\n",
    "    df_Germany_Population_Total_Active.at[i,'Month'] = df_Germany_Population_Total_Active.at[i,'DATE'][5:7]\n",
    "    if int(df_Germany_Population_Total_Active.at[i,'Year']) < 2005 or int(df_Germany_Population_Total_Active.at[i,'Year']) > 2022 or int(df_Germany_Population_Total_Active.at[i,'Month']) < 10:\n",
    "        df_Germany_Population_Total_Active.drop(i, inplace=True)\n",
    "\n",
    "#Removing the uselles collumns from our datset\n",
    "df_Germany_Population_Total_Active = df_Germany_Population_Total_Active.drop('DATE', axis=1)\n",
    "df_Germany_Population_Total_Active = df_Germany_Population_Total_Active.drop('Month', axis=1)\n",
    "\n",
    "#Rename Colloumn as a main value\n",
    "df_Germany_Population_Total_Active = df_Germany_Population_Total_Active.rename({'LFAC64TTDEQ647S': 'Germany_Population_Total_Active'}, axis=1)\n",
    "\n",
    "# Reset Index to equalize after the drops\n",
    "df_Germany_Population_Total_Active.reset_index(drop=True, inplace=True)\n",
    "\n",
    "#Convert Year to Int type\n",
    "df_Germany_Population_Total_Active['Year'] = df_Germany_Population_Total_Active['Year'].astype(int);\n",
    "#Convert Construction_Cost to Float type\n",
    "df_Germany_Population_Total_Active['Germany_Population_Total_Active'] = round(df_Germany_Population_Total_Active['Germany_Population_Total_Active'], 0).astype(float);"
   ]
  },
  {
   "cell_type": "code",
   "execution_count": null,
   "id": "fa42e90c",
   "metadata": {},
   "outputs": [],
   "source": [
    "df_Germany_Population_Total_Active"
   ]
  },
  {
   "cell_type": "markdown",
   "id": "3e405bcd",
   "metadata": {},
   "source": [
    "### Italy Total Population - Active"
   ]
  },
  {
   "cell_type": "code",
   "execution_count": null,
   "id": "128d3f68",
   "metadata": {},
   "outputs": [],
   "source": [
    "df_Italy_Population_Total_Active = pd.read_csv(\"Italy_Population_Total_Active_LFAC64TTITQ647S.csv\");\n",
    "\n",
    "#Remove the different years from 2005 to 2022:\n",
    "#Iterate on our dataset to change all the values with the new porcentages\n",
    "for i, row in df_Italy_Population_Total_Active.iterrows():\n",
    "    df_Italy_Population_Total_Active.at[i,'Year'] = df_Italy_Population_Total_Active.at[i,'DATE'][0:4]\n",
    "    df_Italy_Population_Total_Active.at[i,'Month'] = df_Italy_Population_Total_Active.at[i,'DATE'][5:7]\n",
    "    if int(df_Italy_Population_Total_Active.at[i,'Year']) < 2005 or int(df_Italy_Population_Total_Active.at[i,'Year']) > 2022 or int(df_Italy_Population_Total_Active.at[i,'Month']) < 10:\n",
    "        df_Italy_Population_Total_Active.drop(i, inplace=True)\n",
    "\n",
    "#Removing the uselles collumns from our datset\n",
    "df_Italy_Population_Total_Active = df_Italy_Population_Total_Active.drop('DATE', axis=1)\n",
    "df_Italy_Population_Total_Active = df_Italy_Population_Total_Active.drop('Month', axis=1)\n",
    "\n",
    "#Rename Colloumn as a main value\n",
    "df_Italy_Population_Total_Active = df_Italy_Population_Total_Active.rename({'LFAC64TTITQ647S': 'Italy_Population_Total_Active'}, axis=1)\n",
    "\n",
    "# Reset Index to equalize after the drops\n",
    "df_Italy_Population_Total_Active.reset_index(drop=True, inplace=True)\n",
    "\n",
    "#Convert Year to Int type\n",
    "df_Italy_Population_Total_Active['Year'] = df_Italy_Population_Total_Active['Year'].astype(int);\n",
    "#Convert Construction_Cost to Float type\n",
    "df_Italy_Population_Total_Active['Italy_Population_Total_Active'] = round(df_Italy_Population_Total_Active['Italy_Population_Total_Active'], 0).astype(float);"
   ]
  },
  {
   "cell_type": "code",
   "execution_count": null,
   "id": "29f975be",
   "metadata": {},
   "outputs": [],
   "source": [
    "df_Italy_Population_Total_Active"
   ]
  },
  {
   "cell_type": "markdown",
   "id": "fe96c26e",
   "metadata": {},
   "source": [
    "### All Coutries Total Population - Active"
   ]
  },
  {
   "cell_type": "code",
   "execution_count": null,
   "id": "818bca81",
   "metadata": {},
   "outputs": [],
   "source": [
    "df5 = pd.DataFrame.merge(df_Ireland_Population_Total_Active, df_Germany_Population_Total_Active, on='Year')\n",
    "df_All_Countries_Population_Total_Active = pd.DataFrame.merge(df5, df_Italy_Population_Total_Active, on='Year')"
   ]
  },
  {
   "cell_type": "code",
   "execution_count": null,
   "id": "59587a34",
   "metadata": {},
   "outputs": [],
   "source": [
    "df_All_Countries_Population_Total_Active"
   ]
  },
  {
   "cell_type": "code",
   "execution_count": null,
   "id": "b9c3dce8",
   "metadata": {},
   "outputs": [],
   "source": []
  },
  {
   "cell_type": "markdown",
   "id": "032412ab",
   "metadata": {},
   "source": [
    "# Data Visualization"
   ]
  },
  {
   "cell_type": "code",
   "execution_count": null,
   "id": "e53700a9",
   "metadata": {},
   "outputs": [],
   "source": [
    "# HOUSE CONSTRUCTION COST\n",
    "# df_All_Countries_Construction_Cost\n",
    "\n",
    "# CONSTRUCTION TOTAL\n",
    "# df_All_Countries_Construction_Total\n",
    "\n",
    "# CONSTRUCTION EMPLOYMENT\n",
    "# df_All_Countries_Construction_Employment\n",
    "\n",
    "# POPULATION TOTAL\n",
    "df_All_Countries_Population_Total\n",
    "\n",
    "#POPULATION TOTAL ACTIVE\n",
    "df_All_Countries_Population_Total_Active\n"
   ]
  },
  {
   "cell_type": "code",
   "execution_count": null,
   "id": "1fdd4968",
   "metadata": {},
   "outputs": [],
   "source": [
    "# Parameters below will be used to beautify the graphs\n",
    "\n",
    "# Define the graph style\n",
    "plt.style.use(\"seaborn-whitegrid\");\n",
    "\n",
    "# define size and autolayout\n",
    "# Autolayout: the graph will fit automaticaly on the screen resoltion\n",
    "plt.rc(\"figure\", autolayout=True, figsize=(11, 4));\n",
    "\n",
    "# Defining axes atributes of the graph \n",
    "plt.rc(\n",
    "    \"axes\",\n",
    "    labelweight = \"bold\",\n",
    "    labelsize = \"large\",\n",
    "    titleweight = \"bold\",\n",
    "    titlesize = 14,\n",
    "    titlepad = 10,\n",
    ");\n",
    "# Defining axes atributes of the graph \n",
    "plot_params = dict(\n",
    "    color = \"0.75\",\n",
    "    style = \".-\",\n",
    "    markeredgecolor = \"0.25\",\n",
    "    markerfacecolor = \"0.25\",\n",
    "    legend = False,\n",
    ");\n",
    "\n",
    "# Command to autoformat date axis\n",
    "plt.gcf().autofmt_xdate();\n",
    "\n",
    "# format the graph as retina style\n",
    "%config InlineBackend.figure_format = 'retina';"
   ]
  },
  {
   "cell_type": "markdown",
   "id": "06090062",
   "metadata": {},
   "source": [
    "## House Construction Cost"
   ]
  },
  {
   "cell_type": "code",
   "execution_count": null,
   "id": "e3910e53",
   "metadata": {},
   "outputs": [],
   "source": [
    "#PLOTTING GRAPH \n",
    "\n",
    "#Groupby to group the data by ages and summarize values of them\n",
    "#df_groupby = df_all_CSV.groupby('Date')['Adults Aged 18-24', 'Adults Aged 25-44', 'Adults Aged 45-64', 'Adults Aged 65+'].sum().reset_index();\n",
    "\n",
    "# create figure and axis objects with subplots()\n",
    "fig, ax = plt.subplots();\n",
    "\n",
    "# Ploting graph lines\n",
    "ax.plot(df_All_Countries_Construction_Cost['Year'], df_All_Countries_Construction_Cost['Ireland_Construction_Cost'], label='Ireland');  # Plot first line of data.\n",
    "ax.plot(df_All_Countries_Construction_Cost['Year'], df_All_Countries_Construction_Cost['Germany_Construction_Cost'], label='Germany');  # Plot second line of data\n",
    "ax.plot(df_All_Countries_Construction_Cost['Year'], df_All_Countries_Construction_Cost['Italy_Construction_Cost'], label='Italy');  # Plot 3th line of data\n",
    "\n",
    "ax.set_xlabel('Year');  # Add an x-label to the axes.\n",
    "ax.set_ylabel('Cost Increase %');  # Add a y-label to the axes.\n",
    "ax.set_title(\"House Counstruction Cost: Percentage Increase\");  # Add a title to the axes.\n",
    "ax.legend(loc=\"right\", bbox_to_anchor=(1.15, 0.5)) # Better positioning the legend\n"
   ]
  },
  {
   "cell_type": "markdown",
   "id": "41ce8785",
   "metadata": {},
   "source": [
    "## Total Construction"
   ]
  },
  {
   "cell_type": "code",
   "execution_count": null,
   "id": "4601d1e6",
   "metadata": {
    "scrolled": true
   },
   "outputs": [],
   "source": [
    "#PLOTTING GRAPH \n",
    "\n",
    "# create figure and axis objects with subplots()\n",
    "fig, ax = plt.subplots();\n",
    "\n",
    "# Ploting graph lines\n",
    "ax.plot(df_All_Countries_Construction_Total['Year'], df_All_Countries_Construction_Total['Ireland_Construction_Total'], label='Ireland');  # Plot first line of data.\n",
    "ax.plot(df_All_Countries_Construction_Total['Year'], df_All_Countries_Construction_Total['Germany_Construction_Total'], label='Germany');  # Plot second line of data\n",
    "ax.plot(df_All_Countries_Construction_Total['Year'], df_All_Countries_Construction_Total['Italy_Construction_Total'], label='Italy');  # Plot 3th line of data\n",
    "\n",
    "ax.set_xlabel('Year');  # Add an x-label to the axes.\n",
    "ax.set_ylabel('Production Increase %');  # Add a y-label to the axes.\n",
    "ax.set_title(\"House Counstruction Total: Percentage Increase\");  # Add a title to the axes.\n",
    "ax.legend(loc=\"right\", bbox_to_anchor=(1.15, 0.5)) # Better positioning the legend"
   ]
  },
  {
   "cell_type": "markdown",
   "id": "7cccecf5",
   "metadata": {},
   "source": [
    "## Construction Employment"
   ]
  },
  {
   "cell_type": "code",
   "execution_count": null,
   "id": "6730e818",
   "metadata": {},
   "outputs": [],
   "source": [
    "df_All_Countries_Construction_Employment"
   ]
  },
  {
   "cell_type": "code",
   "execution_count": null,
   "id": "b3eb5f13",
   "metadata": {},
   "outputs": [],
   "source": [
    "#PLOTTING GRAPH \n",
    "\n",
    "# create figure and axis objects with subplots()\n",
    "fig, ax = plt.subplots();\n",
    "\n",
    "# Ploting graph lines\n",
    "ax.plot(df_All_Countries_Construction_Employment['Year'], df_All_Countries_Construction_Employment['Ireland_Construction_Employment'], label='Ireland');  # Plot first line of data.\n",
    "ax.plot(df_All_Countries_Construction_Employment['Year'], df_All_Countries_Construction_Employment['Germany_Construction_Employment'], label='Germany');  # Plot second line of data\n",
    "ax.plot(df_All_Countries_Construction_Employment['Year'], df_All_Countries_Construction_Employment['Italy_Construction_Employment'], label='Italy');  # Plot 3th line of data\n",
    "\n",
    "ax.set_xlabel('Year');  # Add an x-label to the axes.\n",
    "ax.set_ylabel('Employment');  # Add a y-label to the axes.\n",
    "ax.set_title(\"Total Counstruction Employment\");  # Add a title to the axes.\n",
    "ax.legend(loc=\"right\", bbox_to_anchor=(1.15, 0.5)) # Better positioning the legend"
   ]
  },
  {
   "cell_type": "markdown",
   "id": "c858cc1c",
   "metadata": {},
   "source": [
    "### Construction Employment - Per Population"
   ]
  },
  {
   "cell_type": "code",
   "execution_count": null,
   "id": "eb6ee53d",
   "metadata": {},
   "outputs": [],
   "source": [
    "#Application of the per 1000 rate = Employment / Population * 1000\n",
    "#RPO = E/P*1000\n",
    "\n",
    "#df_All_Countries_Population_Total\n",
    "\n",
    "#PLOTTING GRAPH \n",
    "\n",
    "# create figure and axis objects with subplots()\n",
    "fig, ax = plt.subplots();\n",
    "\n",
    "# Ploting graph lines\n",
    "ax.plot(df_All_Countries_Construction_Employment['Year'], df_All_Countries_Construction_Employment['Ireland_Construction_Employment'] / df_All_Countries_Population_Total['Ireland_Population_Total'] * 1000, label='Ireland');  # Plot first line of data.\n",
    "ax.plot(df_All_Countries_Construction_Employment['Year'], df_All_Countries_Construction_Employment['Germany_Construction_Employment'] / df_All_Countries_Population_Total['Germany_Population_Total'] * 1000, label='Germany');  # Plot second line of data\n",
    "ax.plot(df_All_Countries_Construction_Employment['Year'], df_All_Countries_Construction_Employment['Italy_Construction_Employment'] / df_All_Countries_Population_Total['Italy_Population_Total'] * 1000, label='Italy');  # Plot 3th line of data\n",
    "\n",
    "#ax.plot(df_All_Countries_Construction_Employment['Year'], df_All_Countries_Construction_Employment['Ireland_Construction_Employment'], label='Ireland');  # Plot first line of data.\n",
    "#ax.plot(df_All_Countries_Construction_Employment['Year'], df_All_Countries_Construction_Employment['Germany_Construction_Employment'], label='Germany');  # Plot second line of data\n",
    "#ax.plot(df_All_Countries_Construction_Employment['Year'], df_All_Countries_Construction_Employment['Italy_Construction_Employment'], label='Italy');  # Plot 3th line of data\n",
    "\n",
    "ax.set_xlabel('Year');  # Add an x-label to the axes.\n",
    "ax.set_ylabel('Employment per 1000');  # Add a y-label to the axes.\n",
    "ax.set_title(\"Total Counstruction Employment per 1000\");  # Add a title to the axes.\n",
    "ax.legend(loc=\"right\", bbox_to_anchor=(1.15, 0.5)) # Better positioning the legend"
   ]
  },
  {
   "cell_type": "markdown",
   "id": "f81ed596",
   "metadata": {},
   "source": [
    "### Contruction Employment per Active Population "
   ]
  },
  {
   "cell_type": "code",
   "execution_count": null,
   "id": "305c8696",
   "metadata": {},
   "outputs": [],
   "source": [
    "#Application of the per 1000 rate = Employment / Population * 1000\n",
    "#RPO = E/P*1000\n",
    "\n",
    "#df_All_Countries_Population_Total\n",
    "\n",
    "#PLOTTING GRAPH \n",
    "\n",
    "# create figure and axis objects with subplots()\n",
    "fig, ax = plt.subplots();\n",
    "\n",
    "# Ploting graph lines\n",
    "ax.plot(df_All_Countries_Construction_Employment['Year'], df_All_Countries_Construction_Employment['Ireland_Construction_Employment'] / df_All_Countries_Population_Total_Active['Ireland_Population_Total_Active'] * 1000, label='Ireland');  # Plot first line of data.\n",
    "ax.plot(df_All_Countries_Construction_Employment['Year'], df_All_Countries_Construction_Employment['Germany_Construction_Employment'] / df_All_Countries_Population_Total_Active['Germany_Population_Total_Active'] * 1000, label='Germany');  # Plot second line of data\n",
    "ax.plot(df_All_Countries_Construction_Employment['Year'], df_All_Countries_Construction_Employment['Italy_Construction_Employment'] / df_All_Countries_Population_Total_Active['Italy_Population_Total_Active'] * 1000, label='Italy');  # Plot 3th line of data\n",
    "\n",
    "#ax.plot(df_All_Countries_Construction_Employment['Year'], df_All_Countries_Construction_Employment['Ireland_Construction_Employment'], label='Ireland');  # Plot first line of data.\n",
    "#ax.plot(df_All_Countries_Construction_Employment['Year'], df_All_Countries_Construction_Employment['Germany_Construction_Employment'], label='Germany');  # Plot second line of data\n",
    "#ax.plot(df_All_Countries_Construction_Employment['Year'], df_All_Countries_Construction_Employment['Italy_Construction_Employment'], label='Italy');  # Plot 3th line of data\n",
    "\n",
    "ax.set_xlabel('Year');  # Add an x-label to the axes.\n",
    "ax.set_ylabel('Employment per 1000');  # Add a y-label to the axes.\n",
    "ax.set_title(\"Total Counstruction Employment per 1000\");  # Add a title to the axes.\n",
    "ax.legend(loc=\"right\", bbox_to_anchor=(1.15, 0.5)) # Better positioning the legend"
   ]
  },
  {
   "cell_type": "code",
   "execution_count": null,
   "id": "0d5839f6",
   "metadata": {},
   "outputs": [],
   "source": []
  },
  {
   "cell_type": "markdown",
   "id": "8df1a5d6",
   "metadata": {},
   "source": [
    "# Statistical Analysis"
   ]
  },
  {
   "cell_type": "code",
   "execution_count": null,
   "id": "dc0afdb9",
   "metadata": {},
   "outputs": [],
   "source": []
  },
  {
   "cell_type": "markdown",
   "id": "27679af3",
   "metadata": {},
   "source": [
    "# Machine Learning"
   ]
  },
  {
   "cell_type": "code",
   "execution_count": null,
   "id": "d3cb14b2",
   "metadata": {},
   "outputs": [],
   "source": []
  },
  {
   "cell_type": "code",
   "execution_count": null,
   "id": "3eaf3f7b",
   "metadata": {},
   "outputs": [],
   "source": []
  },
  {
   "cell_type": "code",
   "execution_count": null,
   "id": "b7ff406e",
   "metadata": {},
   "outputs": [],
   "source": []
  }
 ],
 "metadata": {
  "kernelspec": {
   "display_name": "Python 3 (ipykernel)",
   "language": "python",
   "name": "python3"
  },
  "language_info": {
   "codemirror_mode": {
    "name": "ipython",
    "version": 3
   },
   "file_extension": ".py",
   "mimetype": "text/x-python",
   "name": "python",
   "nbconvert_exporter": "python",
   "pygments_lexer": "ipython3",
   "version": "3.9.13"
  }
 },
 "nbformat": 4,
 "nbformat_minor": 5
}
